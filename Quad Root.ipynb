{
 "cells": [
  {
   "cell_type": "code",
   "execution_count": 14,
   "metadata": {},
   "outputs": [
    {
     "name": "stdout",
     "output_type": "stream",
     "text": [
      "Input any number to get the quad root: 4536\n",
      "4536  does have a quad root\n"
     ]
    }
   ],
   "source": [
    "x= 0\n",
    "ans = int(input(\"Input any number to get the quad root: \"))\n",
    "while (x**4 < ans):\n",
    "      x+=1\n",
    "if x**4 != ans:\n",
    "    print(ans, \" does have a quad root\")\n",
    "else:\n",
    "    print(x, \" is a quad root of \", ans)\n",
    "    "
   ]
  }
 ],
 "metadata": {
  "kernelspec": {
   "display_name": "Python 3",
   "language": "python",
   "name": "python3"
  },
  "language_info": {
   "codemirror_mode": {
    "name": "ipython",
    "version": 3
   },
   "file_extension": ".py",
   "mimetype": "text/x-python",
   "name": "python",
   "nbconvert_exporter": "python",
   "pygments_lexer": "ipython3",
   "version": "3.7.6"
  }
 },
 "nbformat": 4,
 "nbformat_minor": 4
}
